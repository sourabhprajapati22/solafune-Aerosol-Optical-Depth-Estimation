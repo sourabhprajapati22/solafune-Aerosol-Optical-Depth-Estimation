{
 "cells": [
  {
   "cell_type": "code",
   "execution_count": 1,
   "id": "9e50aa73-9d51-425a-a08b-84cab16734cb",
   "metadata": {},
   "outputs": [],
   "source": [
    "import pandas as pd\n",
    "from sklearn.metrics import mean_absolute_error,mean_squared_error\n",
    "from tifffile import tifffile\n",
    "import numpy as np\n",
    "import random\n",
    "from tqdm.notebook import tqdm\n",
    "from joblib import Parallel,delayed\n",
    "\n",
    "from catboost import CatBoostRegressor\n",
    "from lightgbm import LGBMRegressor\n",
    "from xgboost import XGBRegressor\n",
    "from sklearn.ensemble import RandomForestRegressor\n",
    "from sklearn.cluster import KMeans,DBSCAN\n",
    "from sklearn.model_selection import train_test_split\n",
    "from sklearn.model_selection import cross_val_score,StratifiedGroupKFold,StratifiedKFold,GroupKFold,KFold\n",
    "from sklearn.pipeline import Pipeline\n",
    "from sklearn.ensemble import VotingRegressor,StackingRegressor"
   ]
  },
  {
   "cell_type": "code",
   "execution_count": 2,
   "id": "06372545-9557-4347-960e-50d390792ae4",
   "metadata": {},
   "outputs": [],
   "source": [
    "label=pd.read_csv('train_answer.csv',header=None)\n",
    "sample=pd.read_csv('sample_answer.csv',header=None)\n",
    "label.columns=['image','location','AOD']\n",
    "label['AOD']=np.log(label['AOD'])"
   ]
  },
  {
   "cell_type": "code",
   "execution_count": 3,
   "id": "20c01569-8be6-4cc9-8bdb-8107fb48ea39",
   "metadata": {},
   "outputs": [],
   "source": [
    "def custom_scoring(true,pred):\n",
    "    true=np.exp(true)\n",
    "    pred=np.exp(pred)\n",
    "    return (len(true)*sum(true*pred)-(sum(true)*sum(pred)))/np.sqrt(len(true)*sum(true**2)-sum(true)**2)/np.sqrt(len(true)*sum(pred**2)-sum(pred)**2)"
   ]
  },
  {
   "cell_type": "code",
   "execution_count": 4,
   "id": "70bae47b-a78f-44ed-9233-3926804b0000",
   "metadata": {},
   "outputs": [],
   "source": [
    "class aerosol_vegetation:\n",
    "    def __init__(self,data):\n",
    "        self.data=data\n",
    "        NDVI=(self.data[:,:,7]-self.data[:,:,3])/(self.data[:,:,7]+self.data[:,:,3])\n",
    "        ARVI=(self.data[:,:,7]-(2*self.data[:,:,3]-self.data[:,:,1]))/(self.data[:,:,7]+(2*self.data[:,:,3]-self.data[:,:,1]))\n",
    "        MSAVI=(2*self.data[:,:,7]+1-np.sqrt((2*self.data[:,:,7]+1)**2-8*(self.data[:,:,7]-self.data[:,:,3])))/2\n",
    "        EVI=2.5*(self.data[:,:,7]-self.data[:,:,3])/(self.data[:,:,7]+6*self.data[:,:,3]-7.5*self.data[:,:,1]+1)\n",
    "        AOT=self.data[:,:,1]/self.data[:,:,3]\n",
    "        SR=self.data[:,:,7]/self.data[:,:,3]\n",
    "        DSI=self.data[:,:,3]-self.data[:,:,1]\n",
    "        # important 0,1,2,3,7\n",
    "\n",
    "        self.data=np.concatenate([self.data[:,:,[0,1,2,3,7]],\n",
    "                        NDVI.reshape((128,128,-1)),\n",
    "                        ARVI.reshape((128,128,-1)),\n",
    "                        MSAVI.reshape((128,128,-1)),\n",
    "                        EVI.reshape((128,128,-1)),\n",
    "                        AOT.reshape((128,128,-1)),\n",
    "                        SR.reshape((128,128,-1)),\n",
    "                        DSI.reshape((128,128,-1)),\n",
    "                       ],axis=2)"
   ]
  },
  {
   "cell_type": "code",
   "execution_count": 5,
   "id": "8849174a-0a80-4c9e-9622-a2aa8ed950dd",
   "metadata": {},
   "outputs": [],
   "source": [
    "def process_file(i,img_path,df):\n",
    "    a=tifffile.imread(f'{img_path}/{df.loc[i][0]}')\n",
    "    a=np.where(a>0.2,0.2,a)\n",
    "    a=np.where(a<0.08,0.08,a)\n",
    "    a=aerosol_vegetation(a).data\n",
    "    a=np.concatenate([\n",
    "                                a.max(axis=0).max(axis=0), # 0.91\n",
    "                                a.max(axis=0).min(axis=0),\n",
    "                                a.min(axis=0).min(axis=0),\n",
    "                                a.min(axis=0).max(axis=0), # 0.9659\n",
    "                                \n",
    "                                a.min(axis=0).std(axis=0),\n",
    "                                a.max(axis=0).std(axis=0),\n",
    "                                a.std(axis=0).std(axis=0),\n",
    "                                a.std(axis=0).max(axis=0),\n",
    "                                a.std(axis=0).min(axis=0), # 0.9711\n",
    "                                \n",
    "                                a.mean(axis=0).min(axis=0),\n",
    "                                a.mean(axis=0).max(axis=0),\n",
    "                                a.mean(axis=0).std(axis=0),\n",
    "        \n",
    "                               ])\n",
    "    return a\n"
   ]
  },
  {
   "cell_type": "markdown",
   "id": "665d1fde-876c-4fc6-87ab-968e233c7446",
   "metadata": {},
   "source": [
    "# Train Data Process"
   ]
  },
  {
   "cell_type": "code",
   "execution_count": 6,
   "id": "24ede067-c688-4b6f-b628-dc3e44c4b947",
   "metadata": {},
   "outputs": [
    {
     "data": {
      "application/vnd.jupyter.widget-view+json": {
       "model_id": "c2d3c25cefe24af38fb3b7d98122d91a",
       "version_major": 2,
       "version_minor": 0
      },
      "text/plain": [
       "  0%|          | 0/4465 [00:00<?, ?it/s]"
      ]
     },
     "metadata": {},
     "output_type": "display_data"
    }
   ],
   "source": [
    "train_result_dfs = Parallel(n_jobs=-1)(delayed(process_file)(i,'train_images',label) for i in tqdm(range(len(label))))\n",
    "train_result_dfs = np.array(train_result_dfs)\n",
    "\n",
    "train=pd.DataFrame(train_result_dfs)\n",
    "train.columns=[f'col_{i}' for i in range(1,train.shape[1]+1)]\n",
    "\n",
    "train['target']=label.AOD"
   ]
  },
  {
   "cell_type": "code",
   "execution_count": 7,
   "id": "35cdbf23-92d8-4f0a-a32c-4193ba1cc765",
   "metadata": {},
   "outputs": [
    {
     "name": "stdout",
     "output_type": "stream",
     "text": [
      "(4465, 145)\n"
     ]
    }
   ],
   "source": [
    "print(train.shape)"
   ]
  },
  {
   "cell_type": "code",
   "execution_count": 8,
   "id": "b632128f-ea83-45d9-801a-91a5493bb10a",
   "metadata": {},
   "outputs": [
    {
     "data": {
      "text/plain": [
       "9     507\n",
       "5     507\n",
       "3     480\n",
       "13    480\n",
       "4     394\n",
       "8     382\n",
       "2     371\n",
       "7     324\n",
       "10    251\n",
       "14    237\n",
       "6     182\n",
       "1     142\n",
       "0     127\n",
       "11     60\n",
       "12     21\n",
       "Name: clust_1, dtype: int64"
      ]
     },
     "execution_count": 8,
     "metadata": {},
     "output_type": "execute_result"
    }
   ],
   "source": [
    "np.random.seed(42)\n",
    "random.seed(42)\n",
    "initial_centers = train.drop('target', axis=1).sample(n=15, random_state=42).values\n",
    "clust=KMeans(n_clusters=15,init=initial_centers,random_state=42,n_init=1)\n",
    "train['clust_1']=clust.fit_predict(train.drop('target',axis=1))\n",
    "train.clust_1.value_counts()"
   ]
  },
  {
   "cell_type": "markdown",
   "id": "9377c42b-1905-4dc5-9a66-e8362755ef02",
   "metadata": {},
   "source": [
    "# Testing Data Process"
   ]
  },
  {
   "cell_type": "code",
   "execution_count": 9,
   "id": "d0e38f61-766f-4ce7-bb3b-acba63df799c",
   "metadata": {},
   "outputs": [
    {
     "data": {
      "application/vnd.jupyter.widget-view+json": {
       "model_id": "915a8810d9a74edcb132f62c0dfc7838",
       "version_major": 2,
       "version_minor": 0
      },
      "text/plain": [
       "  0%|          | 0/1489 [00:00<?, ?it/s]"
      ]
     },
     "metadata": {},
     "output_type": "display_data"
    }
   ],
   "source": [
    "test_result_dfs = Parallel(n_jobs=-1)(delayed(process_file)(i,'test_images',sample) for i in tqdm(range(len(sample))))\n",
    "test_result_dfs = np.array(test_result_dfs)\n",
    "\n",
    "test=pd.DataFrame(test_result_dfs)\n",
    "test.columns=[f'col_{i}' for i in range(1,test.shape[1]+1)]"
   ]
  },
  {
   "cell_type": "markdown",
   "id": "95c1d2ce-db92-497b-8dbc-c66c0dacb145",
   "metadata": {},
   "source": [
    "# Training and Inferencing model"
   ]
  },
  {
   "cell_type": "code",
   "execution_count": 10,
   "id": "b7c95f93-0d25-4bc9-9660-66ec26241bd3",
   "metadata": {},
   "outputs": [],
   "source": [
    "gkf=GroupKFold(n_splits=10)"
   ]
  },
  {
   "cell_type": "code",
   "execution_count": 11,
   "id": "9bae7526-bd63-45d4-8e67-a35bf06e4c56",
   "metadata": {},
   "outputs": [
    {
     "name": "stdout",
     "output_type": "stream",
     "text": [
      "Kfold:1\n",
      "train: 0.09574397165744013 0.01600289453052425\n",
      "valid: 0.28440918484139116 0.14313592296486494\n",
      "train: 0.9873379739303569\n",
      "valid: 0.937532450947988\n",
      "===================================================\n",
      "Kfold:2\n",
      "train: 0.09532093677296204 0.01606129723891319\n",
      "valid: 0.3171254881715636 0.1773147527211633\n",
      "train: 0.9878760564513326\n",
      "valid: 0.8745630038029015\n",
      "===================================================\n",
      "Kfold:3\n",
      "train: 0.09540472347369387 0.015952514258161073\n",
      "valid: 0.29435366862467766 0.14559962461632292\n",
      "train: 0.986705662915915\n",
      "valid: 0.8844654357701538\n",
      "===================================================\n",
      "Kfold:4\n",
      "train: 0.09579009458011914 0.016258599373001354\n",
      "valid: 0.26578138904612436 0.13664289608461871\n",
      "train: 0.9869597975901424\n",
      "valid: 0.8611424652225604\n",
      "===================================================\n",
      "Kfold:5\n",
      "train: 0.09395751928373602 0.015554832634086822\n",
      "valid: 0.36160500142936086 0.24329621630539325\n",
      "train: 0.9869783529739058\n",
      "valid: 0.9113619743254857\n",
      "===================================================\n",
      "Kfold:6\n",
      "train: 0.09205729505857176 0.01454969129045549\n",
      "valid: 0.5550208952555173 0.5987235237865861\n",
      "train: 0.9917204178675696\n",
      "valid: 0.6238311009810057\n",
      "===================================================\n",
      "Kfold:7\n",
      "train: 0.09626767901779694 0.016176083897220767\n",
      "valid: 0.2620141573850498 0.11426753178507307\n",
      "train: 0.9877165427699965\n",
      "valid: 0.9214250350293661\n",
      "===================================================\n",
      "Kfold:8\n",
      "train: 0.09439788042050314 0.015578177676859824\n",
      "valid: 0.3165701740426043 0.17664327811404715\n",
      "train: 0.985540852495256\n",
      "valid: 0.9244231967849782\n",
      "===================================================\n",
      "Kfold:9\n",
      "train: 0.09067069934404805 0.014512163594414394\n",
      "valid: 0.4026006170539521 0.26998760813688505\n",
      "train: 0.9876990120959396\n",
      "valid: 0.7073255320900327\n",
      "===================================================\n",
      "Kfold:10\n",
      "train: 0.09496740438528181 0.015915832525129417\n",
      "valid: 0.2922286707107197 0.1607472343770244\n",
      "train: 0.9879115823320629\n",
      "valid: 0.820092933083805\n",
      "===================================================\n",
      "final_average_score: 0.8516801040394107\n"
     ]
    }
   ],
   "source": [
    "test_pred=[]\n",
    "score=0\n",
    "total=0\n",
    "for i,(train_index,test_index) in enumerate(gkf.split(X=train,groups=train.clust_1)):\n",
    "    train_data=train.loc[train_index]\n",
    "    valid_data=train.loc[test_index]\n",
    "    X_train,y_train=train_data.drop(['target','clust_1'],axis=1),train_data.target\n",
    "    X_valid,y_valid=valid_data.drop(['target','clust_1'],axis=1),valid_data.target\n",
    "    \n",
    "    model=Pipeline(steps=[\n",
    "    ('voting',VotingRegressor([\n",
    "        ('cat',CatBoostRegressor(iterations=300,random_state=42,verbose=False)),\n",
    "        ('lgbm',LGBMRegressor(random_state=42)),\n",
    "        ('xgb',XGBRegressor(random_state=42)),\n",
    "        ('rf',RandomForestRegressor(random_state=42))\n",
    "    ])),\n",
    "    ])\n",
    "    \n",
    "    model.fit(X_train,y_train)\n",
    "    print(f\"Kfold:{i+1}\")\n",
    "    print('train:',mean_absolute_error(y_train,model.predict(X_train)),mean_squared_error(y_train,model.predict(X_train)))\n",
    "    print('valid:',mean_absolute_error(y_valid,model.predict(X_valid)),mean_squared_error(y_valid,model.predict(X_valid)))\n",
    "    print('train:',custom_scoring(y_train,model.predict(X_train)))\n",
    "    print('valid:',custom_scoring(y_valid,model.predict(X_valid)))\n",
    "    score+=custom_scoring(y_valid,model.predict(X_valid))*len(y_valid)\n",
    "    total+=len(y_valid)\n",
    "    print('===================================================')\n",
    "    test_pred.append(model.predict(test))\n",
    "print(\"final_average_score:\",score/total)"
   ]
  },
  {
   "cell_type": "markdown",
   "id": "b18e1153-5b42-4d7e-b86e-86d6a49cba5c",
   "metadata": {},
   "source": [
    "# Ensemble Prediction"
   ]
  },
  {
   "cell_type": "code",
   "execution_count": 23,
   "id": "90421c40-dfb7-4ad2-8f58-59888930bc92",
   "metadata": {},
   "outputs": [
    {
     "data": {
      "text/html": [
       "<div>\n",
       "<style scoped>\n",
       "    .dataframe tbody tr th:only-of-type {\n",
       "        vertical-align: middle;\n",
       "    }\n",
       "\n",
       "    .dataframe tbody tr th {\n",
       "        vertical-align: top;\n",
       "    }\n",
       "\n",
       "    .dataframe thead th {\n",
       "        text-align: right;\n",
       "    }\n",
       "</style>\n",
       "<table border=\"1\" class=\"dataframe\">\n",
       "  <thead>\n",
       "    <tr style=\"text-align: right;\">\n",
       "      <th></th>\n",
       "      <th>1</th>\n",
       "    </tr>\n",
       "  </thead>\n",
       "  <tbody>\n",
       "    <tr>\n",
       "      <th>count</th>\n",
       "      <td>1489.000000</td>\n",
       "    </tr>\n",
       "    <tr>\n",
       "      <th>mean</th>\n",
       "      <td>0.192573</td>\n",
       "    </tr>\n",
       "    <tr>\n",
       "      <th>std</th>\n",
       "      <td>0.196179</td>\n",
       "    </tr>\n",
       "    <tr>\n",
       "      <th>min</th>\n",
       "      <td>0.016972</td>\n",
       "    </tr>\n",
       "    <tr>\n",
       "      <th>25%</th>\n",
       "      <td>0.077456</td>\n",
       "    </tr>\n",
       "    <tr>\n",
       "      <th>50%</th>\n",
       "      <td>0.115618</td>\n",
       "    </tr>\n",
       "    <tr>\n",
       "      <th>75%</th>\n",
       "      <td>0.226770</td>\n",
       "    </tr>\n",
       "    <tr>\n",
       "      <th>max</th>\n",
       "      <td>1.344628</td>\n",
       "    </tr>\n",
       "  </tbody>\n",
       "</table>\n",
       "</div>"
      ],
      "text/plain": [
       "                 1\n",
       "count  1489.000000\n",
       "mean      0.192573\n",
       "std       0.196179\n",
       "min       0.016972\n",
       "25%       0.077456\n",
       "50%       0.115618\n",
       "75%       0.226770\n",
       "max       1.344628"
      ]
     },
     "execution_count": 23,
     "metadata": {},
     "output_type": "execute_result"
    }
   ],
   "source": [
    "final_prediction=np.array(test_pred)\n",
    "sample.iloc[:,1]=final_prediction.mean(axis=0)\n",
    "sample.iloc[:,1]=np.exp(final_prediction.mean(axis=0))\n",
    "sample.to_csv(\"sub_10.csv\",header=None,index=None)\n",
    "sample.describe()"
   ]
  }
 ],
 "metadata": {
  "kernelspec": {
   "display_name": "Python 3 (ipykernel)",
   "language": "python",
   "name": "python3"
  },
  "language_info": {
   "codemirror_mode": {
    "name": "ipython",
    "version": 3
   },
   "file_extension": ".py",
   "mimetype": "text/x-python",
   "name": "python",
   "nbconvert_exporter": "python",
   "pygments_lexer": "ipython3",
   "version": "3.9.12"
  }
 },
 "nbformat": 4,
 "nbformat_minor": 5
}
